{
 "cells": [
  {
   "cell_type": "markdown",
   "id": "chief-intermediate",
   "metadata": {
    "ExecuteTime": {
     "end_time": "2021-06-22T20:49:37.704865Z",
     "start_time": "2021-06-22T20:49:37.687880Z"
    }
   },
   "source": [
    "# Previção de Downloads"
   ]
  },
  {
   "cell_type": "markdown",
   "id": "killing-appointment",
   "metadata": {},
   "source": [
    "## Rede Neurias\n",
    "\n",
    "Redes neurais para modelos de séries temporais têm sido exploradas na literatura [1; 4; 5] e têm demonstrado boas habilidades preditivas. Isso nos motiva a explorar redes neurais para nossas previsões. As duas redes neurais que usaremos é a rede neural feed-forward com um número variável de nós, juntamente com uma rede de memória de longo-curto prazo com um número variável de unidades LSTM. Essas redes são mostradas esquematicamente nas Figs. 4 e 5 no caso de 4 nós e 4 unidades LSTM. Os tutoriais em Refs. [7; 6; 8] foram muito instrutivos para começar a usar esses modelos."
   ]
  },
  {
   "cell_type": "markdown",
   "id": "worst-thinking",
   "metadata": {},
   "source": []
  },
  {
   "cell_type": "code",
   "execution_count": null,
   "id": "chemical-germany",
   "metadata": {},
   "outputs": [],
   "source": []
  },
  {
   "cell_type": "markdown",
   "id": "extra-decrease",
   "metadata": {},
   "source": []
  },
  {
   "cell_type": "code",
   "execution_count": null,
   "id": "intensive-judge",
   "metadata": {},
   "outputs": [],
   "source": []
  },
  {
   "cell_type": "markdown",
   "id": "apparent-current",
   "metadata": {},
   "source": [
    "### Neuronios"
   ]
  },
  {
   "cell_type": "markdown",
   "id": "demanding-emerald",
   "metadata": {},
   "source": []
  },
  {
   "cell_type": "markdown",
   "id": "color-trade",
   "metadata": {},
   "source": [
    "### Epochs (epocas)"
   ]
  },
  {
   "cell_type": "markdown",
   "id": "together-syndicate",
   "metadata": {},
   "source": [
    "O número de épocas é um hiperparâmetro que define o número de vezes que o algoritmo de aprendizado funcionará em todo o conjunto de dados de treinamento. Uma época significa que cada amostra no conjunto de dados de treinamento teve a oportunidade de atualizar os parâmetros do modelo interno. Uma época é composta por um ou mais lotes."
   ]
  },
  {
   "cell_type": "markdown",
   "id": "organizational-moisture",
   "metadata": {},
   "source": [
    "## Read Data"
   ]
  },
  {
   "cell_type": "code",
   "execution_count": 409,
   "id": "lyric-assumption",
   "metadata": {
    "ExecuteTime": {
     "end_time": "2021-06-23T17:29:43.674197Z",
     "start_time": "2021-06-23T17:29:43.656213Z"
    }
   },
   "outputs": [],
   "source": [
    "import pandas as pd\n",
    "import numpy as np\n",
    "\n",
    "from sklearn.model_selection import GridSearchCV\n",
    "from keras.wrappers.scikit_learn import KerasRegressor\n",
    "from keras.models import Sequential\n",
    "from keras.layers import Dense\n",
    "from keras.layers import LSTM\n",
    "from keras.layers import Flatten\n",
    "from keras.layers import Bidirectional\n",
    "from keras.layers import TimeDistributed\n",
    "from keras.layers.convolutional import Conv1D\n",
    "from keras.layers.convolutional import MaxPooling1D\n",
    "\n",
    "\n",
    "import math\n",
    "from sklearn.metrics import mean_squared_error"
   ]
  },
  {
   "cell_type": "code",
   "execution_count": 51,
   "id": "operating-pennsylvania",
   "metadata": {
    "ExecuteTime": {
     "end_time": "2021-06-22T23:04:06.404360Z",
     "start_time": "2021-06-22T23:04:06.394386Z"
    }
   },
   "outputs": [],
   "source": [
    "np.random.seed(7)\n",
    "look_back = 1"
   ]
  },
  {
   "cell_type": "code",
   "execution_count": 6,
   "id": "confused-bearing",
   "metadata": {
    "ExecuteTime": {
     "end_time": "2021-06-22T22:22:29.924922Z",
     "start_time": "2021-06-22T22:22:29.911958Z"
    }
   },
   "outputs": [],
   "source": [
    "def create_index_datatime(df):\n",
    "    \n",
    "    format = '%Y-%m-%d'\n",
    "    \n",
    "    df['data'] = pd.to_datetime(df['data'],format=format).dt.date\n",
    "    df['anoMes'] = pd.to_datetime(df['data'],format=format).dt.strftime('%Y-%m')\n",
    "    \n",
    "    df = df.set_index('data')\n",
    "    \n",
    "    return df"
   ]
  },
  {
   "cell_type": "code",
   "execution_count": 63,
   "id": "representative-andrew",
   "metadata": {
    "ExecuteTime": {
     "end_time": "2021-06-23T14:12:20.389062Z",
     "start_time": "2021-06-23T14:12:20.370081Z"
    }
   },
   "outputs": [],
   "source": [
    "# Preparing independent and dependent features\n",
    "def prepare_data(time_series, n_features):\n",
    "    dataX, dataY = [],[]\n",
    "    for i in range(len(time_series)):\n",
    "        # find the end of this pattern\n",
    "        end_ix = i + n_features\n",
    "        \n",
    "        #Check if we are beyond the sequence\n",
    "        if end_ix > len(time_series)-1:\n",
    "            break\n",
    "        # gather input and output parts of the pattern\n",
    "        seq_x, seq_y = time_series[i:end_ix], time_series[end_ix]\n",
    "        dataX.append(seq_x)\n",
    "        dataY.append(seq_y)\n",
    "    return np.array(dataX), np.array(dataY)"
   ]
  },
  {
   "cell_type": "code",
   "execution_count": 9,
   "id": "foreign-neighborhood",
   "metadata": {
    "ExecuteTime": {
     "end_time": "2021-06-22T22:22:53.168196Z",
     "start_time": "2021-06-22T22:22:53.136356Z"
    }
   },
   "outputs": [],
   "source": [
    "podcasts = create_index_datatime(pd.read_csv('base_geral_mensal_v2.csv',';'))"
   ]
  },
  {
   "cell_type": "code",
   "execution_count": 229,
   "id": "included-heading",
   "metadata": {
    "ExecuteTime": {
     "end_time": "2021-06-23T15:58:41.000630Z",
     "start_time": "2021-06-23T15:58:40.960706Z"
    }
   },
   "outputs": [
    {
     "data": {
      "text/html": [
       "<div>\n",
       "<style scoped>\n",
       "    .dataframe tbody tr th:only-of-type {\n",
       "        vertical-align: middle;\n",
       "    }\n",
       "\n",
       "    .dataframe tbody tr th {\n",
       "        vertical-align: top;\n",
       "    }\n",
       "\n",
       "    .dataframe thead th {\n",
       "        text-align: right;\n",
       "    }\n",
       "</style>\n",
       "<table border=\"1\" class=\"dataframe\">\n",
       "  <thead>\n",
       "    <tr style=\"text-align: right;\">\n",
       "      <th></th>\n",
       "      <th>ano</th>\n",
       "      <th>mes</th>\n",
       "      <th>downloads</th>\n",
       "      <th>titulos_mes</th>\n",
       "      <th>episodios_mes</th>\n",
       "      <th>flagCovid</th>\n",
       "      <th>flagMigracao</th>\n",
       "      <th>P</th>\n",
       "      <th>M</th>\n",
       "      <th>G</th>\n",
       "      <th>...</th>\n",
       "      <th>M_scaled</th>\n",
       "      <th>G_scaled</th>\n",
       "      <th>GG_scaled</th>\n",
       "      <th>jogosBrasileiro_scaled</th>\n",
       "      <th>classicosBrasileiro_scaled</th>\n",
       "      <th>retaFinal_scaled</th>\n",
       "      <th>jogosGrandesB_scaled</th>\n",
       "      <th>jogosCopaAm_scaled</th>\n",
       "      <th>jogosBrasilCopaAm_scaled</th>\n",
       "      <th>anoMes</th>\n",
       "    </tr>\n",
       "    <tr>\n",
       "      <th>data</th>\n",
       "      <th></th>\n",
       "      <th></th>\n",
       "      <th></th>\n",
       "      <th></th>\n",
       "      <th></th>\n",
       "      <th></th>\n",
       "      <th></th>\n",
       "      <th></th>\n",
       "      <th></th>\n",
       "      <th></th>\n",
       "      <th></th>\n",
       "      <th></th>\n",
       "      <th></th>\n",
       "      <th></th>\n",
       "      <th></th>\n",
       "      <th></th>\n",
       "      <th></th>\n",
       "      <th></th>\n",
       "      <th></th>\n",
       "      <th></th>\n",
       "      <th></th>\n",
       "    </tr>\n",
       "  </thead>\n",
       "  <tbody>\n",
       "    <tr>\n",
       "      <th>2018-04-01</th>\n",
       "      <td>2018</td>\n",
       "      <td>4</td>\n",
       "      <td>4287.0</td>\n",
       "      <td>1</td>\n",
       "      <td>0.0</td>\n",
       "      <td>0</td>\n",
       "      <td>0</td>\n",
       "      <td>1</td>\n",
       "      <td>0</td>\n",
       "      <td>0</td>\n",
       "      <td>...</td>\n",
       "      <td>0.0</td>\n",
       "      <td>0.0</td>\n",
       "      <td>0.0</td>\n",
       "      <td>NaN</td>\n",
       "      <td>NaN</td>\n",
       "      <td>NaN</td>\n",
       "      <td>NaN</td>\n",
       "      <td>NaN</td>\n",
       "      <td>NaN</td>\n",
       "      <td>2018-04</td>\n",
       "    </tr>\n",
       "    <tr>\n",
       "      <th>2018-05-01</th>\n",
       "      <td>2018</td>\n",
       "      <td>5</td>\n",
       "      <td>6780.0</td>\n",
       "      <td>1</td>\n",
       "      <td>1.0</td>\n",
       "      <td>0</td>\n",
       "      <td>0</td>\n",
       "      <td>1</td>\n",
       "      <td>0</td>\n",
       "      <td>0</td>\n",
       "      <td>...</td>\n",
       "      <td>0.0</td>\n",
       "      <td>0.0</td>\n",
       "      <td>0.0</td>\n",
       "      <td>NaN</td>\n",
       "      <td>NaN</td>\n",
       "      <td>NaN</td>\n",
       "      <td>NaN</td>\n",
       "      <td>NaN</td>\n",
       "      <td>NaN</td>\n",
       "      <td>2018-05</td>\n",
       "    </tr>\n",
       "    <tr>\n",
       "      <th>2018-06-01</th>\n",
       "      <td>2018</td>\n",
       "      <td>6</td>\n",
       "      <td>9518.0</td>\n",
       "      <td>2</td>\n",
       "      <td>4.0</td>\n",
       "      <td>0</td>\n",
       "      <td>0</td>\n",
       "      <td>2</td>\n",
       "      <td>0</td>\n",
       "      <td>0</td>\n",
       "      <td>...</td>\n",
       "      <td>0.0</td>\n",
       "      <td>0.0</td>\n",
       "      <td>0.0</td>\n",
       "      <td>0.555556</td>\n",
       "      <td>0.571429</td>\n",
       "      <td>0.0</td>\n",
       "      <td>0.0</td>\n",
       "      <td>0.0</td>\n",
       "      <td>0.0</td>\n",
       "      <td>2018-06</td>\n",
       "    </tr>\n",
       "    <tr>\n",
       "      <th>2018-07-01</th>\n",
       "      <td>2018</td>\n",
       "      <td>7</td>\n",
       "      <td>60178.0</td>\n",
       "      <td>2</td>\n",
       "      <td>14.0</td>\n",
       "      <td>0</td>\n",
       "      <td>0</td>\n",
       "      <td>2</td>\n",
       "      <td>0</td>\n",
       "      <td>0</td>\n",
       "      <td>...</td>\n",
       "      <td>0.0</td>\n",
       "      <td>0.0</td>\n",
       "      <td>0.0</td>\n",
       "      <td>0.388889</td>\n",
       "      <td>0.571429</td>\n",
       "      <td>0.0</td>\n",
       "      <td>0.0</td>\n",
       "      <td>0.0</td>\n",
       "      <td>0.0</td>\n",
       "      <td>2018-07</td>\n",
       "    </tr>\n",
       "    <tr>\n",
       "      <th>2018-08-01</th>\n",
       "      <td>2018</td>\n",
       "      <td>8</td>\n",
       "      <td>55936.0</td>\n",
       "      <td>2</td>\n",
       "      <td>6.0</td>\n",
       "      <td>0</td>\n",
       "      <td>0</td>\n",
       "      <td>2</td>\n",
       "      <td>0</td>\n",
       "      <td>0</td>\n",
       "      <td>...</td>\n",
       "      <td>0.0</td>\n",
       "      <td>0.0</td>\n",
       "      <td>0.0</td>\n",
       "      <td>0.708333</td>\n",
       "      <td>0.000000</td>\n",
       "      <td>0.0</td>\n",
       "      <td>0.0</td>\n",
       "      <td>0.0</td>\n",
       "      <td>0.0</td>\n",
       "      <td>2018-08</td>\n",
       "    </tr>\n",
       "  </tbody>\n",
       "</table>\n",
       "<p>5 rows × 28 columns</p>\n",
       "</div>"
      ],
      "text/plain": [
       "             ano  mes  downloads  titulos_mes  episodios_mes  flagCovid  \\\n",
       "data                                                                      \n",
       "2018-04-01  2018    4     4287.0            1            0.0          0   \n",
       "2018-05-01  2018    5     6780.0            1            1.0          0   \n",
       "2018-06-01  2018    6     9518.0            2            4.0          0   \n",
       "2018-07-01  2018    7    60178.0            2           14.0          0   \n",
       "2018-08-01  2018    8    55936.0            2            6.0          0   \n",
       "\n",
       "            flagMigracao  P  M  G  ...  M_scaled  G_scaled  GG_scaled  \\\n",
       "data                               ...                                  \n",
       "2018-04-01             0  1  0  0  ...       0.0       0.0        0.0   \n",
       "2018-05-01             0  1  0  0  ...       0.0       0.0        0.0   \n",
       "2018-06-01             0  2  0  0  ...       0.0       0.0        0.0   \n",
       "2018-07-01             0  2  0  0  ...       0.0       0.0        0.0   \n",
       "2018-08-01             0  2  0  0  ...       0.0       0.0        0.0   \n",
       "\n",
       "            jogosBrasileiro_scaled  classicosBrasileiro_scaled  \\\n",
       "data                                                             \n",
       "2018-04-01                     NaN                         NaN   \n",
       "2018-05-01                     NaN                         NaN   \n",
       "2018-06-01                0.555556                    0.571429   \n",
       "2018-07-01                0.388889                    0.571429   \n",
       "2018-08-01                0.708333                    0.000000   \n",
       "\n",
       "            retaFinal_scaled  jogosGrandesB_scaled  jogosCopaAm_scaled  \\\n",
       "data                                                                     \n",
       "2018-04-01               NaN                   NaN                 NaN   \n",
       "2018-05-01               NaN                   NaN                 NaN   \n",
       "2018-06-01               0.0                   0.0                 0.0   \n",
       "2018-07-01               0.0                   0.0                 0.0   \n",
       "2018-08-01               0.0                   0.0                 0.0   \n",
       "\n",
       "            jogosBrasilCopaAm_scaled   anoMes  \n",
       "data                                           \n",
       "2018-04-01                       NaN  2018-04  \n",
       "2018-05-01                       NaN  2018-05  \n",
       "2018-06-01                       0.0  2018-06  \n",
       "2018-07-01                       0.0  2018-07  \n",
       "2018-08-01                       0.0  2018-08  \n",
       "\n",
       "[5 rows x 28 columns]"
      ]
     },
     "execution_count": 229,
     "metadata": {},
     "output_type": "execute_result"
    }
   ],
   "source": [
    "podcasts.head()"
   ]
  },
  {
   "cell_type": "code",
   "execution_count": 372,
   "id": "ahead-college",
   "metadata": {
    "ExecuteTime": {
     "end_time": "2021-06-23T17:03:29.542789Z",
     "start_time": "2021-06-23T17:03:29.524839Z"
    }
   },
   "outputs": [],
   "source": [
    "target = 'downloads'"
   ]
  },
  {
   "cell_type": "code",
   "execution_count": 383,
   "id": "lesbian-elder",
   "metadata": {
    "ExecuteTime": {
     "end_time": "2021-06-23T17:08:59.916342Z",
     "start_time": "2021-06-23T17:08:59.618110Z"
    }
   },
   "outputs": [
    {
     "data": {
      "image/png": "[encoded data removed]",
      "text/plain": [
       "<Figure size 720x360 with 1 Axes>"
      ]
     },
     "metadata": {},
     "output_type": "display_data"
    }
   ],
   "source": [
    "podcasts[target].plot(figsize=(10,5))\n",
    "plt.show()"
   ]
  },
  {
   "cell_type": "markdown",
   "id": "occasional-silence",
   "metadata": {},
   "source": [
    "### Scaling "
   ]
  },
  {
   "cell_type": "code",
   "execution_count": 390,
   "id": "adolescent-fellowship",
   "metadata": {
    "ExecuteTime": {
     "end_time": "2021-06-23T17:13:35.460503Z",
     "start_time": "2021-06-23T17:13:35.456551Z"
    }
   },
   "outputs": [],
   "source": [
    "df = podcasts[target][0:38]"
   ]
  },
  {
   "cell_type": "code",
   "execution_count": 393,
   "id": "innovative-exposure",
   "metadata": {
    "ExecuteTime": {
     "end_time": "2021-06-23T17:13:44.456804Z",
     "start_time": "2021-06-23T17:13:44.449827Z"
    }
   },
   "outputs": [],
   "source": [
    "from sklearn.preprocessing import MinMaxScaler\n",
    "\n",
    "scaler = MinMaxScaler(feature_range=(0,1))\n",
    "df_scaled = scaler.fit_transform(np.array(df).reshape(-1,1))"
   ]
  },
  {
   "cell_type": "code",
   "execution_count": 394,
   "id": "virtual-newcastle",
   "metadata": {
    "ExecuteTime": {
     "end_time": "2021-06-23T17:13:46.142210Z",
     "start_time": "2021-06-23T17:13:46.128217Z"
    }
   },
   "outputs": [
    {
     "data": {
      "text/plain": [
       "(38, 1)"
      ]
     },
     "execution_count": 394,
     "metadata": {},
     "output_type": "execute_result"
    }
   ],
   "source": [
    "df_scaled.shape"
   ]
  },
  {
   "cell_type": "code",
   "execution_count": 395,
   "id": "roman-profit",
   "metadata": {
    "ExecuteTime": {
     "end_time": "2021-06-23T17:13:52.115688Z",
     "start_time": "2021-06-23T17:13:52.104721Z"
    }
   },
   "outputs": [
    {
     "data": {
      "text/plain": [
       "array([[0.00000000e+00],\n",
       "       [2.89616903e-04],\n",
       "       [6.07695956e-04],\n",
       "       [6.49297165e-03],\n",
       "       [6.00016984e-03],\n",
       "       [1.26449784e-02],\n",
       "       [1.40367194e-02],\n",
       "       [9.56897500e-03],\n",
       "       [6.22600829e-03],\n",
       "       [9.46035414e-03],\n",
       "       [1.17499889e-02],\n",
       "       [9.00751552e-03],\n",
       "       [1.97128854e-02],\n",
       "       [2.52317545e-02],\n",
       "       [4.86860768e-02],\n",
       "       [8.98726673e-02],\n",
       "       [2.78418847e-01],\n",
       "       [4.03342363e-01],\n",
       "       [5.71090843e-01],\n",
       "       [5.34018950e-01],\n",
       "       [4.56006170e-01],\n",
       "       [6.39548936e-01],\n",
       "       [5.21254198e-01],\n",
       "       [6.27247130e-01],\n",
       "       [8.21793016e-01],\n",
       "       [8.24444991e-01],\n",
       "       [7.92133247e-01],\n",
       "       [9.16611591e-01],\n",
       "       [9.79127253e-01],\n",
       "       [1.00000000e+00],\n",
       "       [9.34872559e-01],\n",
       "       [9.34872559e-01],\n",
       "       [7.71078923e-01],\n",
       "       [4.44362014e-01],\n",
       "       [4.72081709e-01],\n",
       "       [6.42909329e-01],\n",
       "       [7.23732078e-01],\n",
       "       [8.54296094e-01]])"
      ]
     },
     "execution_count": 395,
     "metadata": {},
     "output_type": "execute_result"
    }
   ],
   "source": [
    "df_scaled"
   ]
  },
  {
   "cell_type": "markdown",
   "id": "developing-tongue",
   "metadata": {},
   "source": [
    "### Reshape Time series"
   ]
  },
  {
   "cell_type": "code",
   "execution_count": 519,
   "id": "irish-cheat",
   "metadata": {
    "ExecuteTime": {
     "end_time": "2021-06-23T20:13:19.202901Z",
     "start_time": "2021-06-23T20:13:19.188938Z"
    }
   },
   "outputs": [],
   "source": [
    "#train_size = int(len(df_scaled)*0.9)\n",
    "#test_size = len(df_scaled)-train_size\n",
    "\n",
    "#train, test = df_scaled[0:train_size,:],df_scaled[train_size:len(df_scaled),:1]\n",
    "\n",
    "train = df_scaled[0:33]\n",
    "test = df_scaled[33:38]"
   ]
  },
  {
   "cell_type": "code",
   "execution_count": 520,
   "id": "medium-absolute",
   "metadata": {
    "ExecuteTime": {
     "end_time": "2021-06-23T20:13:20.239204Z",
     "start_time": "2021-06-23T20:13:20.233046Z"
    }
   },
   "outputs": [
    {
     "data": {
      "text/plain": [
       "(33, 5)"
      ]
     },
     "execution_count": 520,
     "metadata": {},
     "output_type": "execute_result"
    }
   ],
   "source": [
    "len(train), len(test)"
   ]
  },
  {
   "cell_type": "code",
   "execution_count": 521,
   "id": "downtown-track",
   "metadata": {
    "ExecuteTime": {
     "end_time": "2021-06-23T20:13:21.044545Z",
     "start_time": "2021-06-23T20:13:21.026595Z"
    }
   },
   "outputs": [],
   "source": [
    "# Choose a number of time steps\n",
    "n_features = 3\n",
    "\n",
    "# Slipt into samples\n",
    "X_train, y_train = prepare_data(train, n_features)\n",
    "X_test, y_test = prepare_data(test, n_features)"
   ]
  },
  {
   "cell_type": "code",
   "execution_count": 522,
   "id": "collective-sydney",
   "metadata": {
    "ExecuteTime": {
     "end_time": "2021-06-23T20:13:22.492437Z",
     "start_time": "2021-06-23T20:13:22.485456Z"
    }
   },
   "outputs": [
    {
     "data": {
      "text/plain": [
       "((30, 3, 1), (2, 3, 1))"
      ]
     },
     "execution_count": 522,
     "metadata": {},
     "output_type": "execute_result"
    }
   ],
   "source": [
    "X_train.shape, X_test.shape"
   ]
  },
  {
   "cell_type": "code",
   "execution_count": 523,
   "id": "indirect-forwarding",
   "metadata": {
    "ExecuteTime": {
     "end_time": "2021-06-23T20:13:25.012914Z",
     "start_time": "2021-06-23T20:13:25.002906Z"
    }
   },
   "outputs": [],
   "source": [
    "# Reshape from  [samples, timesteps] into [samples, timesteps, features]\n",
    "n_features = 1\n",
    "\n",
    "X_train = X_train.reshape((X_train.shape[0],X_train.shape[1], n_features))\n",
    "X_test = X_test.reshape((X_test.shape[0],X_test.shape[1], n_features))"
   ]
  },
  {
   "cell_type": "code",
   "execution_count": 524,
   "id": "interpreted-southwest",
   "metadata": {
    "ExecuteTime": {
     "end_time": "2021-06-23T20:13:26.314648Z",
     "start_time": "2021-06-23T20:13:26.301540Z"
    }
   },
   "outputs": [
    {
     "data": {
      "text/plain": [
       "((30, 3, 1), (2, 3, 1))"
      ]
     },
     "execution_count": 524,
     "metadata": {},
     "output_type": "execute_result"
    }
   ],
   "source": [
    "X_train.shape, X_test.shape"
   ]
  },
  {
   "cell_type": "markdown",
   "id": "perfect-ghost",
   "metadata": {},
   "source": [
    "## Building LSTM Models"
   ]
  },
  {
   "cell_type": "markdown",
   "id": "married-absorption",
   "metadata": {},
   "source": [
    "A rede neural Long Short-Term Memory, ou rede LSTM, é uma rede neural recorrente que é treinada usando Backpropagation Through Time. Como tal, ela pode ser usado para criar grandes redes recorrentes que, por sua vez, podem ser usadas para resolver problemas de difíceis sequências em aprendizado de máquina.\n",
    "\n",
    "Em vez de neurônios, as redes LSTM têm blocos de memória que são conectados por meio de camadas.\n",
    "\n",
    "Um bloco possui componentes que o tornam mais inteligente do que um neurônio clássico e uma memória para sequências recentes. Um bloco contém portas que gerenciam o estado e a saída do bloco, e este bloco opera em uma sequência de entrada e cada porta dentro de um bloco usa as unidades de ativação sigmóide para controlar se elas são disparadas ou não, tornando a mudança de estado e adição de informações que fluem através do bloco condicional.\n",
    "\n",
    "Existem três tipos de portas dentro de uma unidade:\n",
    "\n",
    "* Forget Gate: decide condicionalmente quais informações jogar fora do bloco.\n",
    "* Porta de entrada: decide condicionalmente quais valores da entrada atualizar o estado da memória.\n",
    "* Porta de saída: decide condicionalmente o que produzir com base na entrada e na memória do bloco.\n",
    "\n",
    "Cada unidade é como uma mini-máquina de estados onde os portões das unidades possuem pesos que são aprendidos durante o procedimento de treinamento."
   ]
  },
  {
   "cell_type": "markdown",
   "id": "united-pilot",
   "metadata": {},
   "source": [
    "**Vanilla LSTM**\n",
    "\n",
    "Um Vanilla LSTM é um modelo LSTM que possui uma única camada oculta de unidades LSTM e uma camada de saída usada para fazer uma previsão. A chave da definição é a forma da entrada, isso é o que o modelo espera como entrada para cada amostra em termos do número de etapas de tempo e do número de features.\n",
    "\n",
    "Estamos trabalhando com uma série univariada, então o número de recursos é um, para uma variável.\n",
    "\n",
    "* model = Sequential()\n",
    "* model.add(LSTM(50, activation='relu', input_shape=(n_steps, n_features)))\n",
    "* model.add(Dense(1))\n",
    "* model.compile(optimizer='adam', loss='mse')"
   ]
  },
  {
   "cell_type": "markdown",
   "id": "checked-salmon",
   "metadata": {},
   "source": [
    "**Stacked LSTM**\n",
    "\n",
    "Múltiplas camadas ocultas do LSTM  podem ser empilhadas uma sobre a outra, no que é conhecido como modelo LSTM Empilhado.\n",
    "\n",
    "Uma camada LSTM requer uma entrada tridimensional e LSTMs por padrão produzirão uma saída bidimensional como uma interpretação do final da sequência.\n",
    "\n",
    "Podemos resolver isso fazendo com que o LSTM produza um valor para cada intervalo de tempo nos dados de entrada, definindo o argumento return_sequences = True na camada. Isso nos permite ter uma saída 3D da camada LSTM oculta como entrada para a próxima.\n",
    "\n",
    "* model = Sequential()\n",
    "* model.add(LSTM(50, activation='relu', return_sequences=True, input_shape=(n_steps, n_features)))\n",
    "* model.add(LSTM(50, activation='relu'))\n",
    "* model.add(Dense(1))\n",
    "* model.compile(optimizer='adam', loss='mse')\n"
   ]
  },
  {
   "cell_type": "markdown",
   "id": "third-patio",
   "metadata": {},
   "source": [
    "**LSTM bidirecional**\n",
    "\n",
    "Em alguns problemas de predição, pode ser benéfico permitir que o modelo LSTM aprenda a sequência de entrada tanto para frente quanto para trás e concatenar ambas as interpretações.\n",
    "\n",
    "Isso é chamado de LSTM bidirecional.\n",
    "\n",
    "Podemos implementar um LSTM Bidirecional para previsão de série temporal univariada envolvendo a primeira camada oculta em uma camada de invólucro chamada Bidirecional.\n",
    "\n",
    "\n",
    "* model = Sequential()\n",
    "* model.add(Bidirectional(LSTM(50, activation='relu'), input_shape=(n_steps, n_features)))\n",
    "* model.add(Dense(1))\n",
    "* model.compile(optimizer='adam', loss='mse')"
   ]
  },
  {
   "cell_type": "code",
   "execution_count": 525,
   "id": "polar-pierce",
   "metadata": {
    "ExecuteTime": {
     "end_time": "2021-06-23T20:13:30.051684Z",
     "start_time": "2021-06-23T20:13:30.041680Z"
    }
   },
   "outputs": [],
   "source": [
    "def build_model(neurons,n_steps = 3):\n",
    "    \n",
    "    '''\n",
    "    This function build the Feed Forward Neural Network model with a variable number of nodes.\n",
    "    '''\n",
    "    n_features = 1\n",
    "    #input_dim=lags, activation=activation_func\n",
    "   \n",
    "    model = Sequential()\n",
    "    model.add(LSTM(neurons, activation ='relu', return_sequences=True, input_shape=(n_steps, n_features)))\n",
    "    model.add(LSTM(neurons, activation ='relu'))\n",
    "    model.add(Dense(neurons))\n",
    "    #model.add(Bidirectional(LSTM(neurons, activation ='relu', return_sequences=True, input_shape=(n_steps, n_features))))\n",
    "    model.add(Dense(1))\n",
    "    model.compile(loss='mse', optimizer='adam')\n",
    "    \n",
    "    model.summary()\n",
    "    \n",
    "    return model"
   ]
  },
  {
   "cell_type": "code",
   "execution_count": 526,
   "id": "descending-marijuana",
   "metadata": {
    "ExecuteTime": {
     "end_time": "2021-06-23T20:13:32.577785Z",
     "start_time": "2021-06-23T20:13:32.416817Z"
    }
   },
   "outputs": [
    {
     "name": "stdout",
     "output_type": "stream",
     "text": [
      "Model: \"sequential_644\"\n",
      "_________________________________________________________________\n",
      "Layer (type)                 Output Shape              Param #   \n",
      "=================================================================\n",
      "lstm_237 (LSTM)              (None, 3, 150)            91200     \n",
      "_________________________________________________________________\n",
      "lstm_238 (LSTM)              (None, 150)               180600    \n",
      "_________________________________________________________________\n",
      "dense_946 (Dense)            (None, 150)               22650     \n",
      "_________________________________________________________________\n",
      "dense_947 (Dense)            (None, 1)                 151       \n",
      "=================================================================\n",
      "Total params: 294,601\n",
      "Trainable params: 294,601\n",
      "Non-trainable params: 0\n",
      "_________________________________________________________________\n"
     ]
    }
   ],
   "source": [
    "model = build_model(150, 3)"
   ]
  },
  {
   "cell_type": "code",
   "execution_count": 527,
   "id": "mature-oasis",
   "metadata": {
    "ExecuteTime": {
     "end_time": "2021-06-23T20:13:48.898658Z",
     "start_time": "2021-06-23T20:13:35.562516Z"
    }
   },
   "outputs": [
    {
     "name": "stdout",
     "output_type": "stream",
     "text": [
      "Epoch 1/200\n",
      "1/1 [==============================] - 4s 4s/step - loss: 0.3045 - val_loss: 0.5784\n",
      "Epoch 2/200\n",
      "1/1 [==============================] - 0s 47ms/step - loss: 0.2822 - val_loss: 0.5377\n",
      "Epoch 3/200\n",
      "1/1 [==============================] - 0s 44ms/step - loss: 0.2606 - val_loss: 0.4959\n",
      "Epoch 4/200\n",
      "1/1 [==============================] - 0s 45ms/step - loss: 0.2389 - val_loss: 0.4528\n",
      "Epoch 5/200\n",
      "1/1 [==============================] - 0s 44ms/step - loss: 0.2170 - val_loss: 0.4080\n",
      "Epoch 6/200\n",
      "1/1 [==============================] - 0s 51ms/step - loss: 0.1948 - val_loss: 0.3614\n",
      "Epoch 7/200\n",
      "1/1 [==============================] - 0s 43ms/step - loss: 0.1726 - val_loss: 0.3133\n",
      "Epoch 8/200\n",
      "1/1 [==============================] - 0s 46ms/step - loss: 0.1506 - val_loss: 0.2641\n",
      "Epoch 9/200\n",
      "1/1 [==============================] - 0s 43ms/step - loss: 0.1293 - val_loss: 0.2146\n",
      "Epoch 10/200\n",
      "1/1 [==============================] - 0s 41ms/step - loss: 0.1095 - val_loss: 0.1660\n",
      "Epoch 11/200\n",
      "1/1 [==============================] - 0s 46ms/step - loss: 0.0919 - val_loss: 0.1199\n",
      "Epoch 12/200\n",
      "1/1 [==============================] - 0s 42ms/step - loss: 0.0780 - val_loss: 0.0788\n",
      "Epoch 13/200\n",
      "1/1 [==============================] - 0s 42ms/step - loss: 0.0690 - val_loss: 0.0457\n",
      "Epoch 14/200\n",
      "1/1 [==============================] - 0s 48ms/step - loss: 0.0660 - val_loss: 0.0229\n",
      "Epoch 15/200\n",
      "1/1 [==============================] - 0s 46ms/step - loss: 0.0682 - val_loss: 0.0105\n",
      "Epoch 16/200\n",
      "1/1 [==============================] - 0s 46ms/step - loss: 0.0725 - val_loss: 0.0055\n",
      "Epoch 17/200\n",
      "1/1 [==============================] - 0s 42ms/step - loss: 0.0746 - val_loss: 0.0042\n",
      "Epoch 18/200\n",
      "1/1 [==============================] - 0s 46ms/step - loss: 0.0718 - val_loss: 0.0053\n",
      "Epoch 19/200\n",
      "1/1 [==============================] - 0s 47ms/step - loss: 0.0643 - val_loss: 0.0089\n",
      "Epoch 20/200\n",
      "1/1 [==============================] - 0s 43ms/step - loss: 0.0543 - val_loss: 0.0160\n",
      "Epoch 21/200\n",
      "1/1 [==============================] - 0s 46ms/step - loss: 0.0445 - val_loss: 0.0269\n",
      "Epoch 22/200\n",
      "1/1 [==============================] - 0s 45ms/step - loss: 0.0367 - val_loss: 0.0406\n",
      "Epoch 23/200\n",
      "1/1 [==============================] - 0s 43ms/step - loss: 0.0317 - val_loss: 0.0546\n",
      "Epoch 24/200\n",
      "1/1 [==============================] - 0s 42ms/step - loss: 0.0290 - val_loss: 0.0665\n",
      "Epoch 25/200\n",
      "1/1 [==============================] - 0s 49ms/step - loss: 0.0275 - val_loss: 0.0741\n",
      "Epoch 26/200\n",
      "1/1 [==============================] - 0s 44ms/step - loss: 0.0262 - val_loss: 0.0764\n",
      "Epoch 27/200\n",
      "1/1 [==============================] - 0s 42ms/step - loss: 0.0245 - val_loss: 0.0730\n",
      "Epoch 28/200\n",
      "1/1 [==============================] - 0s 45ms/step - loss: 0.0219 - val_loss: 0.0646\n",
      "Epoch 29/200\n",
      "1/1 [==============================] - 0s 43ms/step - loss: 0.0187 - val_loss: 0.0528\n",
      "Epoch 30/200\n",
      "1/1 [==============================] - 0s 41ms/step - loss: 0.0157 - val_loss: 0.0398\n",
      "Epoch 31/200\n",
      "1/1 [==============================] - 0s 47ms/step - loss: 0.0140 - val_loss: 0.0280\n",
      "Epoch 32/200\n",
      "1/1 [==============================] - 0s 42ms/step - loss: 0.0141 - val_loss: 0.0193\n",
      "Epoch 33/200\n",
      "1/1 [==============================] - 0s 46ms/step - loss: 0.0159 - val_loss: 0.0144\n",
      "Epoch 34/200\n",
      "1/1 [==============================] - 0s 41ms/step - loss: 0.0180 - val_loss: 0.0129\n",
      "Epoch 35/200\n",
      "1/1 [==============================] - 0s 45ms/step - loss: 0.0190 - val_loss: 0.0143\n",
      "Epoch 36/200\n",
      "1/1 [==============================] - 0s 44ms/step - loss: 0.0185 - val_loss: 0.0184\n",
      "Epoch 37/200\n",
      "1/1 [==============================] - 0s 42ms/step - loss: 0.0170 - val_loss: 0.0246\n",
      "Epoch 38/200\n",
      "1/1 [==============================] - 0s 46ms/step - loss: 0.0156 - val_loss: 0.0321\n",
      "Epoch 39/200\n",
      "1/1 [==============================] - 0s 45ms/step - loss: 0.0148 - val_loss: 0.0396\n",
      "Epoch 40/200\n",
      "1/1 [==============================] - 0s 42ms/step - loss: 0.0147 - val_loss: 0.0455\n",
      "Epoch 41/200\n",
      "1/1 [==============================] - 0s 44ms/step - loss: 0.0149 - val_loss: 0.0490\n",
      "Epoch 42/200\n",
      "1/1 [==============================] - 0s 45ms/step - loss: 0.0150 - val_loss: 0.0494\n",
      "Epoch 43/200\n",
      "1/1 [==============================] - 0s 45ms/step - loss: 0.0148 - val_loss: 0.0472\n",
      "Epoch 44/200\n",
      "1/1 [==============================] - 0s 43ms/step - loss: 0.0141 - val_loss: 0.0428\n",
      "Epoch 45/200\n",
      "1/1 [==============================] - 0s 42ms/step - loss: 0.0133 - val_loss: 0.0373\n",
      "Epoch 46/200\n",
      "1/1 [==============================] - 0s 45ms/step - loss: 0.0124 - val_loss: 0.0316\n",
      "Epoch 47/200\n",
      "1/1 [==============================] - 0s 43ms/step - loss: 0.0119 - val_loss: 0.0265\n",
      "Epoch 48/200\n",
      "1/1 [==============================] - 0s 46ms/step - loss: 0.0118 - val_loss: 0.0225\n",
      "Epoch 49/200\n",
      "1/1 [==============================] - 0s 43ms/step - loss: 0.0119 - val_loss: 0.0201\n",
      "Epoch 50/200\n",
      "1/1 [==============================] - 0s 43ms/step - loss: 0.0121 - val_loss: 0.0193\n",
      "Epoch 51/200\n",
      "1/1 [==============================] - 0s 46ms/step - loss: 0.0121 - val_loss: 0.0199\n",
      "Epoch 52/200\n",
      "1/1 [==============================] - 0s 42ms/step - loss: 0.0119 - val_loss: 0.0217\n",
      "Epoch 53/200\n",
      "1/1 [==============================] - 0s 44ms/step - loss: 0.0114 - val_loss: 0.0245\n",
      "Epoch 54/200\n",
      "1/1 [==============================] - 0s 47ms/step - loss: 0.0109 - val_loss: 0.0277\n",
      "Epoch 55/200\n",
      "1/1 [==============================] - 0s 41ms/step - loss: 0.0105 - val_loss: 0.0308\n",
      "Epoch 56/200\n",
      "1/1 [==============================] - 0s 44ms/step - loss: 0.0104 - val_loss: 0.0331\n",
      "Epoch 57/200\n",
      "1/1 [==============================] - 0s 42ms/step - loss: 0.0103 - val_loss: 0.0342\n",
      "Epoch 58/200\n",
      "1/1 [==============================] - 0s 42ms/step - loss: 0.0103 - val_loss: 0.0339\n",
      "Epoch 59/200\n",
      "1/1 [==============================] - 0s 43ms/step - loss: 0.0102 - val_loss: 0.0321\n",
      "Epoch 60/200\n",
      "1/1 [==============================] - 0s 43ms/step - loss: 0.0100 - val_loss: 0.0294\n",
      "Epoch 61/200\n",
      "1/1 [==============================] - 0s 40ms/step - loss: 0.0097 - val_loss: 0.0262\n",
      "Epoch 62/200\n",
      "1/1 [==============================] - 0s 45ms/step - loss: 0.0095 - val_loss: 0.0230\n",
      "Epoch 63/200\n",
      "1/1 [==============================] - 0s 43ms/step - loss: 0.0094 - val_loss: 0.0203\n",
      "Epoch 64/200\n",
      "1/1 [==============================] - 0s 47ms/step - loss: 0.0093 - val_loss: 0.0185\n",
      "Epoch 65/200\n",
      "1/1 [==============================] - 0s 40ms/step - loss: 0.0093 - val_loss: 0.0177\n",
      "Epoch 66/200\n",
      "1/1 [==============================] - 0s 43ms/step - loss: 0.0093 - val_loss: 0.0178\n",
      "Epoch 67/200\n",
      "1/1 [==============================] - 0s 44ms/step - loss: 0.0092 - val_loss: 0.0188\n",
      "Epoch 68/200\n",
      "1/1 [==============================] - 0s 40ms/step - loss: 0.0089 - val_loss: 0.0204\n",
      "Epoch 69/200\n",
      "1/1 [==============================] - 0s 43ms/step - loss: 0.0087 - val_loss: 0.0222\n",
      "Epoch 70/200\n",
      "1/1 [==============================] - 0s 42ms/step - loss: 0.0086 - val_loss: 0.0239\n",
      "Epoch 71/200\n",
      "1/1 [==============================] - 0s 44ms/step - loss: 0.0085 - val_loss: 0.0252\n",
      "Epoch 72/200\n",
      "1/1 [==============================] - 0s 47ms/step - loss: 0.0084 - val_loss: 0.0257\n",
      "Epoch 73/200\n",
      "1/1 [==============================] - 0s 46ms/step - loss: 0.0084 - val_loss: 0.0256\n",
      "Epoch 74/200\n",
      "1/1 [==============================] - 0s 50ms/step - loss: 0.0083 - val_loss: 0.0247\n",
      "Epoch 75/200\n",
      "1/1 [==============================] - 0s 44ms/step - loss: 0.0082 - val_loss: 0.0235\n",
      "Epoch 76/200\n",
      "1/1 [==============================] - 0s 45ms/step - loss: 0.0080 - val_loss: 0.0220\n",
      "Epoch 77/200\n",
      "1/1 [==============================] - 0s 44ms/step - loss: 0.0079 - val_loss: 0.0206\n",
      "Epoch 78/200\n",
      "1/1 [==============================] - 0s 42ms/step - loss: 0.0078 - val_loss: 0.0194\n",
      "Epoch 79/200\n",
      "1/1 [==============================] - 0s 44ms/step - loss: 0.0077 - val_loss: 0.0185\n",
      "Epoch 80/200\n",
      "1/1 [==============================] - 0s 40ms/step - loss: 0.0076 - val_loss: 0.0179\n",
      "Epoch 81/200\n",
      "1/1 [==============================] - 0s 42ms/step - loss: 0.0076 - val_loss: 0.0176\n",
      "Epoch 82/200\n",
      "1/1 [==============================] - 0s 45ms/step - loss: 0.0075 - val_loss: 0.0176\n",
      "Epoch 83/200\n",
      "1/1 [==============================] - 0s 41ms/step - loss: 0.0074 - val_loss: 0.0178\n"
     ]
    },
    {
     "name": "stdout",
     "output_type": "stream",
     "text": [
      "Epoch 84/200\n",
      "1/1 [==============================] - 0s 47ms/step - loss: 0.0073 - val_loss: 0.0180\n",
      "Epoch 85/200\n",
      "1/1 [==============================] - 0s 41ms/step - loss: 0.0072 - val_loss: 0.0184\n",
      "Epoch 86/200\n",
      "1/1 [==============================] - 0s 40ms/step - loss: 0.0071 - val_loss: 0.0188\n",
      "Epoch 87/200\n",
      "1/1 [==============================] - 0s 44ms/step - loss: 0.0071 - val_loss: 0.0191\n",
      "Epoch 88/200\n",
      "1/1 [==============================] - 0s 40ms/step - loss: 0.0070 - val_loss: 0.0194\n",
      "Epoch 89/200\n",
      "1/1 [==============================] - 0s 43ms/step - loss: 0.0069 - val_loss: 0.0195\n",
      "Epoch 90/200\n",
      "1/1 [==============================] - 0s 41ms/step - loss: 0.0069 - val_loss: 0.0193\n",
      "Epoch 91/200\n",
      "1/1 [==============================] - 0s 40ms/step - loss: 0.0068 - val_loss: 0.0189\n",
      "Epoch 92/200\n",
      "1/1 [==============================] - 0s 42ms/step - loss: 0.0067 - val_loss: 0.0182\n",
      "Epoch 93/200\n",
      "1/1 [==============================] - 0s 43ms/step - loss: 0.0067 - val_loss: 0.0175\n",
      "Epoch 94/200\n",
      "1/1 [==============================] - 0s 43ms/step - loss: 0.0066 - val_loss: 0.0168\n",
      "Epoch 95/200\n",
      "1/1 [==============================] - 0s 48ms/step - loss: 0.0065 - val_loss: 0.0163\n",
      "Epoch 96/200\n",
      "1/1 [==============================] - 0s 42ms/step - loss: 0.0065 - val_loss: 0.0160\n",
      "Epoch 97/200\n",
      "1/1 [==============================] - 0s 50ms/step - loss: 0.0064 - val_loss: 0.0159\n",
      "Epoch 98/200\n",
      "1/1 [==============================] - 0s 38ms/step - loss: 0.0064 - val_loss: 0.0159\n",
      "Epoch 99/200\n",
      "1/1 [==============================] - 0s 43ms/step - loss: 0.0063 - val_loss: 0.0160\n",
      "Epoch 100/200\n",
      "1/1 [==============================] - 0s 44ms/step - loss: 0.0062 - val_loss: 0.0161\n",
      "Epoch 101/200\n",
      "1/1 [==============================] - 0s 39ms/step - loss: 0.0062 - val_loss: 0.0163\n",
      "Epoch 102/200\n",
      "1/1 [==============================] - 0s 46ms/step - loss: 0.0061 - val_loss: 0.0164\n",
      "Epoch 103/200\n",
      "1/1 [==============================] - 0s 42ms/step - loss: 0.0061 - val_loss: 0.0165\n",
      "Epoch 104/200\n",
      "1/1 [==============================] - 0s 42ms/step - loss: 0.0061 - val_loss: 0.0165\n",
      "Epoch 105/200\n",
      "1/1 [==============================] - 0s 47ms/step - loss: 0.0060 - val_loss: 0.0164\n",
      "Epoch 106/200\n",
      "1/1 [==============================] - 0s 41ms/step - loss: 0.0060 - val_loss: 0.0161\n",
      "Epoch 107/200\n",
      "1/1 [==============================] - 0s 41ms/step - loss: 0.0059 - val_loss: 0.0158\n",
      "Epoch 108/200\n",
      "1/1 [==============================] - 0s 42ms/step - loss: 0.0059 - val_loss: 0.0155\n",
      "Epoch 109/200\n",
      "1/1 [==============================] - 0s 43ms/step - loss: 0.0059 - val_loss: 0.0153\n",
      "Epoch 110/200\n",
      "1/1 [==============================] - 0s 42ms/step - loss: 0.0058 - val_loss: 0.0150\n",
      "Epoch 111/200\n",
      "1/1 [==============================] - 0s 46ms/step - loss: 0.0058 - val_loss: 0.0149\n",
      "Epoch 112/200\n",
      "1/1 [==============================] - 0s 48ms/step - loss: 0.0058 - val_loss: 0.0148\n",
      "Epoch 113/200\n",
      "1/1 [==============================] - 0s 41ms/step - loss: 0.0057 - val_loss: 0.0148\n",
      "Epoch 114/200\n",
      "1/1 [==============================] - 0s 43ms/step - loss: 0.0057 - val_loss: 0.0149\n",
      "Epoch 115/200\n",
      "1/1 [==============================] - 0s 43ms/step - loss: 0.0057 - val_loss: 0.0150\n",
      "Epoch 116/200\n",
      "1/1 [==============================] - 0s 40ms/step - loss: 0.0057 - val_loss: 0.0150\n",
      "Epoch 117/200\n",
      "1/1 [==============================] - 0s 45ms/step - loss: 0.0056 - val_loss: 0.0151\n",
      "Epoch 118/200\n",
      "1/1 [==============================] - 0s 45ms/step - loss: 0.0056 - val_loss: 0.0151\n",
      "Epoch 119/200\n",
      "1/1 [==============================] - 0s 40ms/step - loss: 0.0056 - val_loss: 0.0150\n",
      "Epoch 120/200\n",
      "1/1 [==============================] - 0s 44ms/step - loss: 0.0056 - val_loss: 0.0149\n",
      "Epoch 121/200\n",
      "1/1 [==============================] - 0s 42ms/step - loss: 0.0056 - val_loss: 0.0148\n",
      "Epoch 122/200\n",
      "1/1 [==============================] - 0s 40ms/step - loss: 0.0056 - val_loss: 0.0146\n",
      "Epoch 123/200\n",
      "1/1 [==============================] - 0s 43ms/step - loss: 0.0056 - val_loss: 0.0145\n",
      "Epoch 124/200\n",
      "1/1 [==============================] - 0s 43ms/step - loss: 0.0055 - val_loss: 0.0144\n",
      "Epoch 125/200\n",
      "1/1 [==============================] - 0s 46ms/step - loss: 0.0055 - val_loss: 0.0144\n",
      "Epoch 126/200\n",
      "1/1 [==============================] - 0s 41ms/step - loss: 0.0055 - val_loss: 0.0143\n",
      "Epoch 127/200\n",
      "1/1 [==============================] - 0s 41ms/step - loss: 0.0055 - val_loss: 0.0143\n",
      "Epoch 128/200\n",
      "1/1 [==============================] - 0s 43ms/step - loss: 0.0055 - val_loss: 0.0144\n",
      "Epoch 129/200\n",
      "1/1 [==============================] - 0s 44ms/step - loss: 0.0055 - val_loss: 0.0144\n",
      "Epoch 130/200\n",
      "1/1 [==============================] - 0s 51ms/step - loss: 0.0055 - val_loss: 0.0145\n",
      "Epoch 131/200\n",
      "1/1 [==============================] - 0s 44ms/step - loss: 0.0055 - val_loss: 0.0144\n",
      "Epoch 132/200\n",
      "1/1 [==============================] - 0s 42ms/step - loss: 0.0055 - val_loss: 0.0144\n",
      "Epoch 133/200\n",
      "1/1 [==============================] - 0s 45ms/step - loss: 0.0055 - val_loss: 0.0144\n",
      "Epoch 134/200\n",
      "1/1 [==============================] - 0s 41ms/step - loss: 0.0055 - val_loss: 0.0143\n",
      "Epoch 135/200\n",
      "1/1 [==============================] - 0s 44ms/step - loss: 0.0055 - val_loss: 0.0143\n",
      "Epoch 136/200\n",
      "1/1 [==============================] - 0s 41ms/step - loss: 0.0055 - val_loss: 0.0143\n",
      "Epoch 137/200\n",
      "1/1 [==============================] - 0s 44ms/step - loss: 0.0055 - val_loss: 0.0142\n",
      "Epoch 138/200\n",
      "1/1 [==============================] - 0s 75ms/step - loss: 0.0055 - val_loss: 0.0142\n",
      "Epoch 139/200\n",
      "1/1 [==============================] - 0s 52ms/step - loss: 0.0055 - val_loss: 0.0142\n",
      "Epoch 140/200\n",
      "1/1 [==============================] - 0s 39ms/step - loss: 0.0055 - val_loss: 0.0143\n",
      "Epoch 141/200\n",
      "1/1 [==============================] - 0s 43ms/step - loss: 0.0055 - val_loss: 0.0143\n",
      "Epoch 142/200\n",
      "1/1 [==============================] - 0s 44ms/step - loss: 0.0055 - val_loss: 0.0143\n",
      "Epoch 143/200\n",
      "1/1 [==============================] - 0s 41ms/step - loss: 0.0055 - val_loss: 0.0143\n",
      "Epoch 144/200\n",
      "1/1 [==============================] - 0s 39ms/step - loss: 0.0055 - val_loss: 0.0143\n",
      "Epoch 145/200\n",
      "1/1 [==============================] - 0s 42ms/step - loss: 0.0055 - val_loss: 0.0143\n",
      "Epoch 146/200\n",
      "1/1 [==============================] - 0s 41ms/step - loss: 0.0055 - val_loss: 0.0143\n",
      "Epoch 147/200\n",
      "1/1 [==============================] - 0s 43ms/step - loss: 0.0055 - val_loss: 0.0143\n",
      "Epoch 148/200\n",
      "1/1 [==============================] - 0s 39ms/step - loss: 0.0055 - val_loss: 0.0143\n",
      "Epoch 149/200\n",
      "1/1 [==============================] - 0s 43ms/step - loss: 0.0055 - val_loss: 0.0143\n",
      "Epoch 150/200\n",
      "1/1 [==============================] - 0s 43ms/step - loss: 0.0054 - val_loss: 0.0143\n",
      "Epoch 151/200\n",
      "1/1 [==============================] - 0s 42ms/step - loss: 0.0054 - val_loss: 0.0143\n",
      "Epoch 152/200\n",
      "1/1 [==============================] - 0s 46ms/step - loss: 0.0054 - val_loss: 0.0143\n",
      "Epoch 153/200\n",
      "1/1 [==============================] - 0s 44ms/step - loss: 0.0054 - val_loss: 0.0143\n",
      "Epoch 154/200\n",
      "1/1 [==============================] - 0s 40ms/step - loss: 0.0054 - val_loss: 0.0144\n",
      "Epoch 155/200\n",
      "1/1 [==============================] - 0s 47ms/step - loss: 0.0054 - val_loss: 0.0144\n",
      "Epoch 156/200\n",
      "1/1 [==============================] - 0s 42ms/step - loss: 0.0054 - val_loss: 0.0144\n",
      "Epoch 157/200\n",
      "1/1 [==============================] - 0s 46ms/step - loss: 0.0054 - val_loss: 0.0144\n",
      "Epoch 158/200\n",
      "1/1 [==============================] - 0s 41ms/step - loss: 0.0054 - val_loss: 0.0144\n",
      "Epoch 159/200\n",
      "1/1 [==============================] - 0s 46ms/step - loss: 0.0054 - val_loss: 0.0144\n",
      "Epoch 160/200\n",
      "1/1 [==============================] - 0s 41ms/step - loss: 0.0054 - val_loss: 0.0144\n",
      "Epoch 161/200\n",
      "1/1 [==============================] - 0s 44ms/step - loss: 0.0054 - val_loss: 0.0144\n",
      "Epoch 162/200\n",
      "1/1 [==============================] - 0s 45ms/step - loss: 0.0054 - val_loss: 0.0144\n",
      "Epoch 163/200\n",
      "1/1 [==============================] - 0s 42ms/step - loss: 0.0054 - val_loss: 0.0145\n",
      "Epoch 164/200\n",
      "1/1 [==============================] - 0s 40ms/step - loss: 0.0054 - val_loss: 0.0145\n",
      "Epoch 165/200\n",
      "1/1 [==============================] - 0s 46ms/step - loss: 0.0054 - val_loss: 0.0145\n",
      "Epoch 166/200\n"
     ]
    },
    {
     "name": "stdout",
     "output_type": "stream",
     "text": [
      "1/1 [==============================] - 0s 42ms/step - loss: 0.0054 - val_loss: 0.0145\n",
      "Epoch 167/200\n",
      "1/1 [==============================] - 0s 42ms/step - loss: 0.0054 - val_loss: 0.0145\n",
      "Epoch 168/200\n",
      "1/1 [==============================] - 0s 41ms/step - loss: 0.0054 - val_loss: 0.0145\n",
      "Epoch 169/200\n",
      "1/1 [==============================] - 0s 41ms/step - loss: 0.0054 - val_loss: 0.0145\n",
      "Epoch 170/200\n",
      "1/1 [==============================] - 0s 44ms/step - loss: 0.0054 - val_loss: 0.0146\n",
      "Epoch 171/200\n",
      "1/1 [==============================] - 0s 41ms/step - loss: 0.0054 - val_loss: 0.0146\n",
      "Epoch 172/200\n",
      "1/1 [==============================] - 0s 41ms/step - loss: 0.0054 - val_loss: 0.0146\n",
      "Epoch 173/200\n",
      "1/1 [==============================] - 0s 44ms/step - loss: 0.0054 - val_loss: 0.0146\n",
      "Epoch 174/200\n",
      "1/1 [==============================] - 0s 43ms/step - loss: 0.0054 - val_loss: 0.0146\n",
      "Epoch 175/200\n",
      "1/1 [==============================] - 0s 43ms/step - loss: 0.0054 - val_loss: 0.0147\n",
      "Epoch 176/200\n",
      "1/1 [==============================] - 0s 40ms/step - loss: 0.0054 - val_loss: 0.0147\n",
      "Epoch 177/200\n",
      "1/1 [==============================] - 0s 42ms/step - loss: 0.0054 - val_loss: 0.0147\n",
      "Epoch 178/200\n",
      "1/1 [==============================] - 0s 43ms/step - loss: 0.0054 - val_loss: 0.0147\n",
      "Epoch 179/200\n",
      "1/1 [==============================] - 0s 43ms/step - loss: 0.0054 - val_loss: 0.0147\n",
      "Epoch 180/200\n",
      "1/1 [==============================] - 0s 44ms/step - loss: 0.0054 - val_loss: 0.0147\n",
      "Epoch 181/200\n",
      "1/1 [==============================] - 0s 45ms/step - loss: 0.0054 - val_loss: 0.0147\n",
      "Epoch 182/200\n",
      "1/1 [==============================] - 0s 41ms/step - loss: 0.0054 - val_loss: 0.0148\n",
      "Epoch 183/200\n",
      "1/1 [==============================] - 0s 44ms/step - loss: 0.0054 - val_loss: 0.0148\n",
      "Epoch 184/200\n",
      "1/1 [==============================] - 0s 40ms/step - loss: 0.0054 - val_loss: 0.0148\n",
      "Epoch 185/200\n",
      "1/1 [==============================] - 0s 46ms/step - loss: 0.0054 - val_loss: 0.0148\n",
      "Epoch 186/200\n",
      "1/1 [==============================] - 0s 49ms/step - loss: 0.0054 - val_loss: 0.0148\n",
      "Epoch 187/200\n",
      "1/1 [==============================] - 0s 44ms/step - loss: 0.0054 - val_loss: 0.0148\n",
      "Epoch 188/200\n",
      "1/1 [==============================] - 0s 47ms/step - loss: 0.0053 - val_loss: 0.0148\n",
      "Epoch 189/200\n",
      "1/1 [==============================] - 0s 41ms/step - loss: 0.0053 - val_loss: 0.0149\n",
      "Epoch 190/200\n",
      "1/1 [==============================] - 0s 44ms/step - loss: 0.0053 - val_loss: 0.0149\n",
      "Epoch 191/200\n",
      "1/1 [==============================] - 0s 40ms/step - loss: 0.0053 - val_loss: 0.0148\n",
      "Epoch 192/200\n",
      "1/1 [==============================] - 0s 41ms/step - loss: 0.0053 - val_loss: 0.0149\n",
      "Epoch 193/200\n",
      "1/1 [==============================] - 0s 46ms/step - loss: 0.0053 - val_loss: 0.0149\n",
      "Epoch 194/200\n",
      "1/1 [==============================] - 0s 41ms/step - loss: 0.0053 - val_loss: 0.0150\n",
      "Epoch 195/200\n",
      "1/1 [==============================] - 0s 43ms/step - loss: 0.0053 - val_loss: 0.0150\n",
      "Epoch 196/200\n",
      "1/1 [==============================] - 0s 41ms/step - loss: 0.0053 - val_loss: 0.0150\n",
      "Epoch 197/200\n",
      "1/1 [==============================] - 0s 40ms/step - loss: 0.0053 - val_loss: 0.0150\n",
      "Epoch 198/200\n",
      "1/1 [==============================] - 0s 46ms/step - loss: 0.0053 - val_loss: 0.0151\n",
      "Epoch 199/200\n",
      "1/1 [==============================] - 0s 42ms/step - loss: 0.0053 - val_loss: 0.0150\n",
      "Epoch 200/200\n",
      "1/1 [==============================] - 0s 46ms/step - loss: 0.0053 - val_loss: 0.0151\n"
     ]
    },
    {
     "data": {
      "text/plain": [
       "<keras.callbacks.History at 0x2c10f8efcf8>"
      ]
     },
     "execution_count": 527,
     "metadata": {},
     "output_type": "execute_result"
    }
   ],
   "source": [
    "model.fit(X_train, y_train,validation_data=(X_test,y_test), epochs=200,batch_size=64,verbose=1)"
   ]
  },
  {
   "cell_type": "markdown",
   "id": "portuguese-jurisdiction",
   "metadata": {},
   "source": [
    "### Simple prediction"
   ]
  },
  {
   "cell_type": "code",
   "execution_count": 529,
   "id": "precious-exhibition",
   "metadata": {
    "ExecuteTime": {
     "end_time": "2021-06-23T20:13:58.251460Z",
     "start_time": "2021-06-23T20:13:58.234997Z"
    }
   },
   "outputs": [],
   "source": [
    "def inverse_predictions(model, scaler, X_train, X_test):\n",
    "    train_predict = model.predict(X_train)\n",
    "    test_predict = model.predict(X_test)\n",
    "    \n",
    "    train_predict = scaler.inverse_transform(train_predict)\n",
    "    test_predict = scaler.inverse_transform(test_predict)\n",
    "    \n",
    "    return train_predict, test_predict    "
   ]
  },
  {
   "cell_type": "code",
   "execution_count": 530,
   "id": "previous-class",
   "metadata": {
    "ExecuteTime": {
     "end_time": "2021-06-23T20:14:00.350577Z",
     "start_time": "2021-06-23T20:14:00.338159Z"
    }
   },
   "outputs": [],
   "source": [
    "def metrics(y_train, y_test, train_predict, test_predict):\n",
    "    print(\"Train RMSE\",math.sqrt(mean_squared_error(y_train,train_predict)))\n",
    "    print(\"Test RMSE\",math.sqrt(mean_squared_error(y_test,test_predict)))\n",
    "    "
   ]
  },
  {
   "cell_type": "code",
   "execution_count": 531,
   "id": "fuzzy-swaziland",
   "metadata": {
    "ExecuteTime": {
     "end_time": "2021-06-23T20:14:03.830688Z",
     "start_time": "2021-06-23T20:14:02.796705Z"
    }
   },
   "outputs": [],
   "source": [
    "train_predict, test_predict = inverse_predictions(model, scaler, X_train, X_test)"
   ]
  },
  {
   "cell_type": "code",
   "execution_count": 532,
   "id": "fundamental-tennis",
   "metadata": {
    "ExecuteTime": {
     "end_time": "2021-06-23T20:14:05.882787Z",
     "start_time": "2021-06-23T20:14:05.876804Z"
    }
   },
   "outputs": [
    {
     "name": "stdout",
     "output_type": "stream",
     "text": [
      "Train RMSE 4745354.416921415\n",
      "Test RMSE 5790747.081930939\n"
     ]
    }
   ],
   "source": [
    "metrics(y_train, y_test, train_predict, test_predict)"
   ]
  },
  {
   "cell_type": "markdown",
   "id": "interesting-diving",
   "metadata": {},
   "source": [
    "### Predict Next N months"
   ]
  },
  {
   "cell_type": "code",
   "execution_count": 542,
   "id": "noticed-sheriff",
   "metadata": {
    "ExecuteTime": {
     "end_time": "2021-06-23T20:17:51.314604Z",
     "start_time": "2021-06-23T20:17:51.307585Z"
    }
   },
   "outputs": [],
   "source": [
    "def get_forecast(model,x_input,n_steps,steps):\n",
    "    \n",
    "    n_features = 1\n",
    "    \n",
    "    temp_input=list(x_input)\n",
    "    lst_output = []\n",
    "    i = 0\n",
    "    while (i<steps):\n",
    "        if(len(temp_input)>n_steps):\n",
    "            x_input = np.array(temp_input[1:])\n",
    "            print(\"{} day input {}\".format(i,x_input))\n",
    "            \n",
    "            x_input = x_input.reshape((1,n_steps, n_features))\n",
    "            yhat = model.predict(x_input, verbose=0)\n",
    "            print(\"{} day output {}\".format(i, yhat))\n",
    "            temp_input.append(yhat[0][0])\n",
    "            temp_input = temp_input[1:]\n",
    "            lst_output.append(yhat[0][0])\n",
    "            i=i+1\n",
    "        else:\n",
    "            x_input = x_input.reshape((1, n_steps,n_features))\n",
    "            yhat = model.predict(x_input, verbose=0)\n",
    "            print(yhat[0])\n",
    "            temp_input.append(yhat[0][0])\n",
    "            lst_output.append(yhat[0][0])\n",
    "            i=i+1\n",
    "    print(lst_output)\n",
    "       \n",
    "    return pd.DataFrame(lst_output,columns=['prediction'])"
   ]
  },
  {
   "cell_type": "code",
   "execution_count": 534,
   "id": "activated-thickness",
   "metadata": {
    "ExecuteTime": {
     "end_time": "2021-06-23T20:14:15.032188Z",
     "start_time": "2021-06-23T20:14:15.017685Z"
    }
   },
   "outputs": [
    {
     "data": {
      "text/plain": [
       "(1, 5)"
      ]
     },
     "execution_count": 534,
     "metadata": {},
     "output_type": "execute_result"
    }
   ],
   "source": [
    "x_input=test.reshape(1,-1)\n",
    "x_input.shape"
   ]
  },
  {
   "cell_type": "code",
   "execution_count": 538,
   "id": "domestic-drunk",
   "metadata": {
    "ExecuteTime": {
     "end_time": "2021-06-23T20:15:02.388982Z",
     "start_time": "2021-06-23T20:15:02.377309Z"
    }
   },
   "outputs": [
    {
     "data": {
      "text/plain": [
       "array([[0.44436201, 0.47208171, 0.64290933, 0.72373208, 0.85429609]])"
      ]
     },
     "execution_count": 538,
     "metadata": {},
     "output_type": "execute_result"
    }
   ],
   "source": [
    "x_input"
   ]
  },
  {
   "cell_type": "code",
   "execution_count": 540,
   "id": "polar-antarctica",
   "metadata": {
    "ExecuteTime": {
     "end_time": "2021-06-23T20:16:11.889911Z",
     "start_time": "2021-06-23T20:16:11.871221Z"
    }
   },
   "outputs": [
    {
     "data": {
      "text/plain": [
       "[0.4443620139260075,\n",
       " 0.47208170890933854,\n",
       " 0.6429093289984122,\n",
       " 0.7237320779937274,\n",
       " 0.854296094423707]"
      ]
     },
     "execution_count": 540,
     "metadata": {},
     "output_type": "execute_result"
    }
   ],
   "source": [
    "temp_input=list(x_input)\n",
    "temp_input=temp_input[0].tolist()\n",
    "temp_input"
   ]
  },
  {
   "cell_type": "code",
   "execution_count": 544,
   "id": "different-appeal",
   "metadata": {
    "ExecuteTime": {
     "end_time": "2021-06-23T20:18:04.437732Z",
     "start_time": "2021-06-23T20:18:04.042977Z"
    }
   },
   "outputs": [
    {
     "name": "stdout",
     "output_type": "stream",
     "text": [
      "0 day input [0.47208171 0.64290933 0.72373208 0.85429609]\n",
      "0 day output [[0.95918876]]\n",
      "1 day input [0.64290933 0.72373208 0.85429609 0.95918876]\n",
      "1 day output [[1.0752908]]\n",
      "2 day input [0.72373208 0.85429609 0.95918876 1.0752908 ]\n",
      "2 day output [[1.1777009]]\n",
      "3 day input [0.85429609 0.95918876 1.0752908  1.17770088]\n",
      "3 day output [[1.2881732]]\n",
      "4 day input [0.95918876 1.0752908  1.1777009  1.2881732 ]\n",
      "4 day output [[1.3944881]]\n",
      "5 day input [1.0752908 1.1777009 1.2881732 1.3944881]\n",
      "5 day output [[1.5024129]]\n",
      "6 day input [1.1777009 1.2881732 1.3944881 1.5024129]\n",
      "6 day output [[1.6090358]]\n",
      "[0.95918876, 1.0752908, 1.1777009, 1.2881732, 1.3944881, 1.5024129, 1.6090358]\n"
     ]
    }
   ],
   "source": [
    "pred = get_prediction(model,temp_input,4,7)"
   ]
  },
  {
   "cell_type": "code",
   "execution_count": 545,
   "id": "fantastic-clock",
   "metadata": {
    "ExecuteTime": {
     "end_time": "2021-06-23T20:18:41.765182Z",
     "start_time": "2021-06-23T20:18:41.743165Z"
    }
   },
   "outputs": [
    {
     "data": {
      "text/plain": [
       "array([[ 8260909.98275179],\n",
       "       [ 9260307.40161359],\n",
       "       [10141845.46788085],\n",
       "       [11092782.70507288],\n",
       "       [12007933.15682626],\n",
       "       [12936941.68850362],\n",
       "       [13854743.69734871]])"
      ]
     },
     "execution_count": 545,
     "metadata": {},
     "output_type": "execute_result"
    }
   ],
   "source": [
    "scaler.inverse_transform(pred)"
   ]
  },
  {
   "cell_type": "markdown",
   "id": "marine-keeping",
   "metadata": {},
   "source": [
    "### Visualizaing the results"
   ]
  },
  {
   "cell_type": "code",
   "execution_count": 183,
   "id": "impaired-forest",
   "metadata": {
    "ExecuteTime": {
     "end_time": "2021-06-23T15:23:03.807387Z",
     "start_time": "2021-06-23T15:23:03.791412Z"
    }
   },
   "outputs": [],
   "source": [
    "import seaborn as sns\n",
    "import matplotlib.pyplot as plt\n",
    "\n",
    "sns.set_style('darkgrid')"
   ]
  },
  {
   "cell_type": "code",
   "execution_count": 192,
   "id": "european-circumstances",
   "metadata": {
    "ExecuteTime": {
     "end_time": "2021-06-23T15:24:57.833571Z",
     "start_time": "2021-06-23T15:24:57.814656Z"
    }
   },
   "outputs": [
    {
     "data": {
      "text/html": [
       "<div>\n",
       "<style scoped>\n",
       "    .dataframe tbody tr th:only-of-type {\n",
       "        vertical-align: middle;\n",
       "    }\n",
       "\n",
       "    .dataframe tbody tr th {\n",
       "        vertical-align: top;\n",
       "    }\n",
       "\n",
       "    .dataframe thead th {\n",
       "        text-align: right;\n",
       "    }\n",
       "</style>\n",
       "<table border=\"1\" class=\"dataframe\">\n",
       "  <thead>\n",
       "    <tr style=\"text-align: right;\">\n",
       "      <th></th>\n",
       "      <th>prediction</th>\n",
       "      <th>actual</th>\n",
       "    </tr>\n",
       "  </thead>\n",
       "  <tbody>\n",
       "    <tr>\n",
       "      <th>0</th>\n",
       "      <td>7021140.5</td>\n",
       "      <td>5538401.0</td>\n",
       "    </tr>\n",
       "    <tr>\n",
       "      <th>1</th>\n",
       "      <td>7128271.5</td>\n",
       "      <td>6234117.0</td>\n",
       "    </tr>\n",
       "    <tr>\n",
       "      <th>2</th>\n",
       "      <td>7114094.0</td>\n",
       "      <td>7358002.0</td>\n",
       "    </tr>\n",
       "    <tr>\n",
       "      <th>3</th>\n",
       "      <td>7399844.0</td>\n",
       "      <td>NaN</td>\n",
       "    </tr>\n",
       "    <tr>\n",
       "      <th>4</th>\n",
       "      <td>7643847.5</td>\n",
       "      <td>NaN</td>\n",
       "    </tr>\n",
       "  </tbody>\n",
       "</table>\n",
       "</div>"
      ],
      "text/plain": [
       "   prediction     actual\n",
       "0   7021140.5  5538401.0\n",
       "1   7128271.5  6234117.0\n",
       "2   7114094.0  7358002.0\n",
       "3   7399844.0        NaN\n",
       "4   7643847.5        NaN"
      ]
     },
     "execution_count": 192,
     "metadata": {},
     "output_type": "execute_result"
    }
   ],
   "source": [
    "pred['actual'][0:3] = podcasts[target][35:38]\n",
    "pred.head()"
   ]
  },
  {
   "cell_type": "code",
   "execution_count": 196,
   "id": "stupid-halifax",
   "metadata": {
    "ExecuteTime": {
     "end_time": "2021-06-23T15:25:37.907886Z",
     "start_time": "2021-06-23T15:25:37.689236Z"
    }
   },
   "outputs": [
    {
     "data": {
      "image/png": "[encoded data removed]",
      "text/plain": [
       "<Figure size 432x288 with 1 Axes>"
      ]
     },
     "metadata": {},
     "output_type": "display_data"
    }
   ],
   "source": [
    "plt.plot(pred)\n",
    "plt.show()"
   ]
  },
  {
   "cell_type": "markdown",
   "id": "interpreted-julian",
   "metadata": {},
   "source": [
    "## Building CNN Models"
   ]
  },
  {
   "cell_type": "markdown",
   "id": "sunrise-maryland",
   "metadata": {},
   "source": [
    "Uma rede neural convolucional, ou CNN, é um tipo de rede neural desenvolvida para trabalhar com dados de imagens bidimensionais.\n",
    "\n",
    "O CNN pode ser muito eficaz na extração e aprendizagem automática de recursos de dados de sequência unidimensional, como dados de série temporal univariada.\n",
    "\n",
    "Um modelo CNN pode ser usado em um modelo híbrido com um backend LSTM, onde o CNN é usado para interpretar subsequências de entrada que, juntas, são fornecidas como uma sequência para um modelo LSTM interpretar. Este modelo híbrido é denominado CNN-LSTM.\n",
    "\n",
    "A primeira etapa é dividir as sequências de entrada em subsequências que podem ser processadas pelo modelo CNN. Por exemplo, podemos primeiro dividir nossos dados de série temporal univariados em amostras de entrada / saída, com quatro entradas e uma como saída. \n",
    "\n",
    "Cada amostra pode então ser dividida em duas subamostras, cada uma com duas etapas de tempo. O CNN pode interpretar cada subsequência de duas etapas de tempo e fornecer uma série de tempo de interpretações das subsequências para o modelo LSTM para processar como entrada."
   ]
  },
  {
   "cell_type": "code",
   "execution_count": 368,
   "id": "killing-expense",
   "metadata": {
    "ExecuteTime": {
     "end_time": "2021-06-23T17:02:17.464941Z",
     "start_time": "2021-06-23T17:02:17.458958Z"
    }
   },
   "outputs": [],
   "source": [
    "def build_cnn_model(neurons,n_steps,n_features):\n",
    "    \n",
    "    model = Sequential()\n",
    "    model.add(TimeDistributed(Conv1D(filters=64, kernel_size=1, activation='relu'),input_shape=(None,n_steps, n_features)))\n",
    "    model.add(TimeDistributed(MaxPooling1D(pool_size=2)))\n",
    "    model.add(TimeDistributed(Flatten()))\n",
    "    model.add(LSTM(neurons,return_sequences = True, activation ='relu'))\n",
    "    model.add(Dense(1))\n",
    "    model.compile(loss='sparse_categorical_crossentropy', optimizer='adam')\n",
    "    \n",
    "    model.summary()\n",
    "    \n",
    "    return model"
   ]
  },
  {
   "cell_type": "code",
   "execution_count": 339,
   "id": "lovely-clothing",
   "metadata": {
    "ExecuteTime": {
     "end_time": "2021-06-23T16:33:08.141825Z",
     "start_time": "2021-06-23T16:33:08.123873Z"
    }
   },
   "outputs": [],
   "source": [
    "#define input sequence\n",
    "time_series = train.values\n",
    "n_features = 4\n",
    "\n",
    "X, y = prepare_data(time_series, n_features)"
   ]
  },
  {
   "cell_type": "code",
   "execution_count": 340,
   "id": "coastal-powell",
   "metadata": {
    "ExecuteTime": {
     "end_time": "2021-06-23T16:33:09.791235Z",
     "start_time": "2021-06-23T16:33:09.772287Z"
    }
   },
   "outputs": [
    {
     "data": {
      "text/plain": [
       "(29, 2, 2, 1)"
      ]
     },
     "execution_count": 340,
     "metadata": {},
     "output_type": "execute_result"
    }
   ],
   "source": [
    "# reshape from [samples, timesteps] into [samples, subsequences, timesteps, features]\n",
    "n_features = 1\n",
    "n_seq = 2\n",
    "n_steps = 2\n",
    "X = X.reshape((X.shape[0], n_seq, n_steps, n_features))\n",
    "X.shape"
   ]
  },
  {
   "cell_type": "code",
   "execution_count": 369,
   "id": "linear-recipe",
   "metadata": {
    "ExecuteTime": {
     "end_time": "2021-06-23T17:02:20.754144Z",
     "start_time": "2021-06-23T17:02:20.619501Z"
    }
   },
   "outputs": [
    {
     "name": "stdout",
     "output_type": "stream",
     "text": [
      "Model: \"sequential_638\"\n",
      "_________________________________________________________________\n",
      "Layer (type)                 Output Shape              Param #   \n",
      "=================================================================\n",
      "time_distributed_119 (TimeDi (None, None, 2, 64)       128       \n",
      "_________________________________________________________________\n",
      "time_distributed_120 (TimeDi (None, None, 1, 64)       0         \n",
      "_________________________________________________________________\n",
      "time_distributed_121 (TimeDi (None, None, 64)          0         \n",
      "_________________________________________________________________\n",
      "lstm_226 (LSTM)              (None, None, 150)         129000    \n",
      "_________________________________________________________________\n",
      "dense_935 (Dense)            (None, None, 1)           151       \n",
      "=================================================================\n",
      "Total params: 129,279\n",
      "Trainable params: 129,279\n",
      "Non-trainable params: 0\n",
      "_________________________________________________________________\n"
     ]
    }
   ],
   "source": [
    "model = build_cnn_model(150,2,1)"
   ]
  },
  {
   "cell_type": "code",
   "execution_count": 371,
   "id": "orange-sydney",
   "metadata": {
    "ExecuteTime": {
     "end_time": "2021-06-23T17:02:33.246247Z",
     "start_time": "2021-06-23T17:02:33.180209Z"
    }
   },
   "outputs": [
    {
     "name": "stdout",
     "output_type": "stream",
     "text": [
      "Epoch 1/500\n"
     ]
    },
    {
     "ename": "TypeError",
     "evalue": "'NoneType' object is not callable",
     "output_type": "error",
     "traceback": [
      "\u001b[1;31m---------------------------------------------------------------------------\u001b[0m",
      "\u001b[1;31mTypeError\u001b[0m                                 Traceback (most recent call last)",
      "\u001b[1;32m<ipython-input-371-53d66d592557>\u001b[0m in \u001b[0;36m<module>\u001b[1;34m\u001b[0m\n\u001b[1;32m----> 1\u001b[1;33m \u001b[0mcnn_model\u001b[0m\u001b[1;33m.\u001b[0m\u001b[0mfit\u001b[0m\u001b[1;33m(\u001b[0m\u001b[0mX\u001b[0m\u001b[1;33m,\u001b[0m \u001b[0my\u001b[0m\u001b[1;33m,\u001b[0m\u001b[0mepochs\u001b[0m\u001b[1;33m=\u001b[0m\u001b[1;36m500\u001b[0m\u001b[1;33m)\u001b[0m\u001b[1;31m# batch_size=15\u001b[0m\u001b[1;33m\u001b[0m\u001b[0m\n\u001b[0m",
      "\u001b[1;32mC:\\Anaconda3\\lib\\site-packages\\keras\\engine\\training.py\u001b[0m in \u001b[0;36mfit\u001b[1;34m(self, x, y, batch_size, epochs, verbose, callbacks, validation_split, validation_data, shuffle, class_weight, sample_weight, initial_epoch, steps_per_epoch, validation_steps, validation_batch_size, validation_freq, max_queue_size, workers, use_multiprocessing)\u001b[0m\n\u001b[0;32m   1156\u001b[0m                 _r=1):\n\u001b[0;32m   1157\u001b[0m               \u001b[0mcallbacks\u001b[0m\u001b[1;33m.\u001b[0m\u001b[0mon_train_batch_begin\u001b[0m\u001b[1;33m(\u001b[0m\u001b[0mstep\u001b[0m\u001b[1;33m)\u001b[0m\u001b[1;33m\u001b[0m\u001b[0m\n\u001b[1;32m-> 1158\u001b[1;33m               \u001b[0mtmp_logs\u001b[0m \u001b[1;33m=\u001b[0m \u001b[0mself\u001b[0m\u001b[1;33m.\u001b[0m\u001b[0mtrain_function\u001b[0m\u001b[1;33m(\u001b[0m\u001b[0miterator\u001b[0m\u001b[1;33m)\u001b[0m\u001b[1;33m\u001b[0m\u001b[0m\n\u001b[0m\u001b[0;32m   1159\u001b[0m               \u001b[1;32mif\u001b[0m \u001b[0mdata_handler\u001b[0m\u001b[1;33m.\u001b[0m\u001b[0mshould_sync\u001b[0m\u001b[1;33m:\u001b[0m\u001b[1;33m\u001b[0m\u001b[0m\n\u001b[0;32m   1160\u001b[0m                 \u001b[0mcontext\u001b[0m\u001b[1;33m.\u001b[0m\u001b[0masync_wait\u001b[0m\u001b[1;33m(\u001b[0m\u001b[1;33m)\u001b[0m\u001b[1;33m\u001b[0m\u001b[0m\n",
      "\u001b[1;32mC:\\Anaconda3\\lib\\site-packages\\tensorflow\\python\\eager\\def_function.py\u001b[0m in \u001b[0;36m__call__\u001b[1;34m(self, *args, **kwds)\u001b[0m\n\u001b[0;32m    887\u001b[0m \u001b[1;33m\u001b[0m\u001b[0m\n\u001b[0;32m    888\u001b[0m       \u001b[1;32mwith\u001b[0m \u001b[0mOptionalXlaContext\u001b[0m\u001b[1;33m(\u001b[0m\u001b[0mself\u001b[0m\u001b[1;33m.\u001b[0m\u001b[0m_jit_compile\u001b[0m\u001b[1;33m)\u001b[0m\u001b[1;33m:\u001b[0m\u001b[1;33m\u001b[0m\u001b[0m\n\u001b[1;32m--> 889\u001b[1;33m         \u001b[0mresult\u001b[0m \u001b[1;33m=\u001b[0m \u001b[0mself\u001b[0m\u001b[1;33m.\u001b[0m\u001b[0m_call\u001b[0m\u001b[1;33m(\u001b[0m\u001b[1;33m*\u001b[0m\u001b[0margs\u001b[0m\u001b[1;33m,\u001b[0m \u001b[1;33m**\u001b[0m\u001b[0mkwds\u001b[0m\u001b[1;33m)\u001b[0m\u001b[1;33m\u001b[0m\u001b[0m\n\u001b[0m\u001b[0;32m    890\u001b[0m \u001b[1;33m\u001b[0m\u001b[0m\n\u001b[0;32m    891\u001b[0m       \u001b[0mnew_tracing_count\u001b[0m \u001b[1;33m=\u001b[0m \u001b[0mself\u001b[0m\u001b[1;33m.\u001b[0m\u001b[0mexperimental_get_tracing_count\u001b[0m\u001b[1;33m(\u001b[0m\u001b[1;33m)\u001b[0m\u001b[1;33m\u001b[0m\u001b[0m\n",
      "\u001b[1;32mC:\\Anaconda3\\lib\\site-packages\\tensorflow\\python\\eager\\def_function.py\u001b[0m in \u001b[0;36m_call\u001b[1;34m(self, *args, **kwds)\u001b[0m\n\u001b[0;32m    915\u001b[0m       \u001b[1;31m# In this case we have created variables on the first call, so we run the\u001b[0m\u001b[1;33m\u001b[0m\u001b[1;33m\u001b[0m\u001b[0m\n\u001b[0;32m    916\u001b[0m       \u001b[1;31m# defunned version which is guaranteed to never create variables.\u001b[0m\u001b[1;33m\u001b[0m\u001b[1;33m\u001b[0m\u001b[0m\n\u001b[1;32m--> 917\u001b[1;33m       \u001b[1;32mreturn\u001b[0m \u001b[0mself\u001b[0m\u001b[1;33m.\u001b[0m\u001b[0m_stateless_fn\u001b[0m\u001b[1;33m(\u001b[0m\u001b[1;33m*\u001b[0m\u001b[0margs\u001b[0m\u001b[1;33m,\u001b[0m \u001b[1;33m**\u001b[0m\u001b[0mkwds\u001b[0m\u001b[1;33m)\u001b[0m  \u001b[1;31m# pylint: disable=not-callable\u001b[0m\u001b[1;33m\u001b[0m\u001b[0m\n\u001b[0m\u001b[0;32m    918\u001b[0m     \u001b[1;32melif\u001b[0m \u001b[0mself\u001b[0m\u001b[1;33m.\u001b[0m\u001b[0m_stateful_fn\u001b[0m \u001b[1;32mis\u001b[0m \u001b[1;32mnot\u001b[0m \u001b[1;32mNone\u001b[0m\u001b[1;33m:\u001b[0m\u001b[1;33m\u001b[0m\u001b[0m\n\u001b[0;32m    919\u001b[0m       \u001b[1;31m# Release the lock early so that multiple threads can perform the call\u001b[0m\u001b[1;33m\u001b[0m\u001b[1;33m\u001b[0m\u001b[0m\n",
      "\u001b[1;31mTypeError\u001b[0m: 'NoneType' object is not callable"
     ]
    }
   ],
   "source": [
    "cnn_model.fit(X, y,epochs=500)# batch_size=15"
   ]
  },
  {
   "cell_type": "code",
   "execution_count": 360,
   "id": "architectural-logic",
   "metadata": {
    "ExecuteTime": {
     "end_time": "2021-06-23T16:42:25.059664Z",
     "start_time": "2021-06-23T16:42:24.441999Z"
    }
   },
   "outputs": [
    {
     "data": {
      "text/plain": [
       "83454"
      ]
     },
     "execution_count": 360,
     "metadata": {},
     "output_type": "execute_result"
    }
   ],
   "source": [
    "import gc\n",
    "gc.collect()"
   ]
  },
  {
   "cell_type": "code",
   "execution_count": null,
   "id": "historic-slovakia",
   "metadata": {},
   "outputs": [],
   "source": []
  },
  {
   "cell_type": "code",
   "execution_count": null,
   "id": "blond-catering",
   "metadata": {},
   "outputs": [],
   "source": []
  },
  {
   "cell_type": "code",
   "execution_count": null,
   "id": "reserved-score",
   "metadata": {},
   "outputs": [],
   "source": []
  },
  {
   "cell_type": "code",
   "execution_count": null,
   "id": "fatal-hometown",
   "metadata": {},
   "outputs": [],
   "source": []
  },
  {
   "cell_type": "code",
   "execution_count": null,
   "id": "grateful-australian",
   "metadata": {},
   "outputs": [],
   "source": []
  },
  {
   "cell_type": "code",
   "execution_count": null,
   "id": "spare-stage",
   "metadata": {},
   "outputs": [],
   "source": []
  },
  {
   "cell_type": "code",
   "execution_count": null,
   "id": "ideal-recorder",
   "metadata": {},
   "outputs": [],
   "source": []
  },
  {
   "cell_type": "code",
   "execution_count": null,
   "id": "explicit-harbor",
   "metadata": {},
   "outputs": [],
   "source": []
  },
  {
   "cell_type": "code",
   "execution_count": null,
   "id": "indonesian-syndicate",
   "metadata": {},
   "outputs": [],
   "source": []
  },
  {
   "cell_type": "code",
   "execution_count": null,
   "id": "advance-titanium",
   "metadata": {},
   "outputs": [],
   "source": []
  }
 ],
 "metadata": {
  "kernelspec": {
   "display_name": "Python 3",
   "language": "python",
   "name": "python3"
  },
  "language_info": {
   "codemirror_mode": {
    "name": "ipython",
    "version": 3
   },
   "file_extension": ".py",
   "mimetype": "text/x-python",
   "name": "python",
   "nbconvert_exporter": "python",
   "pygments_lexer": "ipython3",
   "version": "3.6.4"
  },
  "toc": {
   "base_numbering": 1,
   "nav_menu": {},
   "number_sections": true,
   "sideBar": true,
   "skip_h1_title": false,
   "title_cell": "Table of Contents",
   "title_sidebar": "Contents",
   "toc_cell": false,
   "toc_position": {
    "height": "calc(100% - 180px)",
    "left": "10px",
    "top": "150px",
    "width": "273px"
   },
   "toc_section_display": true,
   "toc_window_display": false
  }
 },
 "nbformat": 4,
 "nbformat_minor": 5
}
